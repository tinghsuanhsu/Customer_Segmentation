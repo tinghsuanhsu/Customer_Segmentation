{
 "cells": [
  {
   "cell_type": "markdown",
   "metadata": {},
   "source": [
    "### Import libraries"
   ]
  },
  {
   "cell_type": "code",
   "execution_count": 1,
   "metadata": {
    "collapsed": true
   },
   "outputs": [],
   "source": [
    "import pandas as pd\n",
    "import matplotlib.pyplot as plt\n",
    "import seaborn as sns\n",
    "import datetime as dt\n",
    "%matplotlib inline"
   ]
  },
  {
   "cell_type": "markdown",
   "metadata": {},
   "source": [
    "### Load data"
   ]
  },
  {
   "cell_type": "code",
   "execution_count": 2,
   "metadata": {
    "collapsed": true
   },
   "outputs": [],
   "source": [
    "data = pd.read_excel('Data/Online Retail.xlsx')"
   ]
  },
  {
   "cell_type": "code",
   "execution_count": 3,
   "metadata": {
    "collapsed": true
   },
   "outputs": [],
   "source": [
    "# remove records without customer ID \n",
    "\n",
    "data = data[data.CustomerID.isnull() == False]"
   ]
  },
  {
   "cell_type": "markdown",
   "metadata": {},
   "source": [
    "### Use 30% of the data for cohort analysis"
   ]
  },
  {
   "cell_type": "code",
   "execution_count": 4,
   "metadata": {
    "collapsed": true
   },
   "outputs": [],
   "source": [
    "# randomly sample 30%\n",
    "sample = data.sample(frac=0.3)"
   ]
  },
  {
   "cell_type": "markdown",
   "metadata": {},
   "source": [
    "### Data exploration"
   ]
  },
  {
   "cell_type": "code",
   "execution_count": 5,
   "metadata": {},
   "outputs": [
    {
     "name": "stdout",
     "output_type": "stream",
     "text": [
      "<class 'pandas.core.frame.DataFrame'>\n",
      "Int64Index: 122049 entries, 63247 to 253945\n",
      "Data columns (total 8 columns):\n",
      "InvoiceNo      122049 non-null object\n",
      "StockCode      122049 non-null object\n",
      "Description    122049 non-null object\n",
      "Quantity       122049 non-null int64\n",
      "InvoiceDate    122049 non-null datetime64[ns]\n",
      "UnitPrice      122049 non-null float64\n",
      "CustomerID     122049 non-null float64\n",
      "Country        122049 non-null object\n",
      "dtypes: datetime64[ns](1), float64(2), int64(1), object(4)\n",
      "memory usage: 8.4+ MB\n"
     ]
    }
   ],
   "source": [
    "sample.info()"
   ]
  },
  {
   "cell_type": "code",
   "execution_count": 6,
   "metadata": {},
   "outputs": [
    {
     "data": {
      "text/html": [
       "<div>\n",
       "<style>\n",
       "    .dataframe thead tr:only-child th {\n",
       "        text-align: right;\n",
       "    }\n",
       "\n",
       "    .dataframe thead th {\n",
       "        text-align: left;\n",
       "    }\n",
       "\n",
       "    .dataframe tbody tr th {\n",
       "        vertical-align: top;\n",
       "    }\n",
       "</style>\n",
       "<table border=\"1\" class=\"dataframe\">\n",
       "  <thead>\n",
       "    <tr style=\"text-align: right;\">\n",
       "      <th></th>\n",
       "      <th>InvoiceNo</th>\n",
       "      <th>StockCode</th>\n",
       "      <th>Description</th>\n",
       "      <th>Quantity</th>\n",
       "      <th>InvoiceDate</th>\n",
       "      <th>UnitPrice</th>\n",
       "      <th>CustomerID</th>\n",
       "      <th>Country</th>\n",
       "    </tr>\n",
       "  </thead>\n",
       "  <tbody>\n",
       "    <tr>\n",
       "      <th>63247</th>\n",
       "      <td>541552</td>\n",
       "      <td>21975</td>\n",
       "      <td>PACK OF 60 DINOSAUR CAKE CASES</td>\n",
       "      <td>1</td>\n",
       "      <td>2011-01-19 11:15:00</td>\n",
       "      <td>0.55</td>\n",
       "      <td>15039.0</td>\n",
       "      <td>United Kingdom</td>\n",
       "    </tr>\n",
       "    <tr>\n",
       "      <th>397984</th>\n",
       "      <td>571216</td>\n",
       "      <td>20992</td>\n",
       "      <td>JAZZ HEARTS PURSE NOTEBOOK</td>\n",
       "      <td>1</td>\n",
       "      <td>2011-10-14 13:06:00</td>\n",
       "      <td>0.39</td>\n",
       "      <td>16081.0</td>\n",
       "      <td>United Kingdom</td>\n",
       "    </tr>\n",
       "    <tr>\n",
       "      <th>340526</th>\n",
       "      <td>566669</td>\n",
       "      <td>22114</td>\n",
       "      <td>HOT WATER BOTTLE TEA AND SYMPATHY</td>\n",
       "      <td>4</td>\n",
       "      <td>2011-09-14 11:36:00</td>\n",
       "      <td>3.95</td>\n",
       "      <td>18065.0</td>\n",
       "      <td>United Kingdom</td>\n",
       "    </tr>\n",
       "    <tr>\n",
       "      <th>87764</th>\n",
       "      <td>543731</td>\n",
       "      <td>84212</td>\n",
       "      <td>ASSORTED FLOWER COLOUR \"LEIS\"</td>\n",
       "      <td>24</td>\n",
       "      <td>2011-02-11 11:57:00</td>\n",
       "      <td>0.65</td>\n",
       "      <td>17677.0</td>\n",
       "      <td>United Kingdom</td>\n",
       "    </tr>\n",
       "    <tr>\n",
       "      <th>368870</th>\n",
       "      <td>569000</td>\n",
       "      <td>22047</td>\n",
       "      <td>EMPIRE GIFT WRAP</td>\n",
       "      <td>25</td>\n",
       "      <td>2011-09-29 17:36:00</td>\n",
       "      <td>0.42</td>\n",
       "      <td>17015.0</td>\n",
       "      <td>United Kingdom</td>\n",
       "    </tr>\n",
       "  </tbody>\n",
       "</table>\n",
       "</div>"
      ],
      "text/plain": [
       "       InvoiceNo StockCode                        Description  Quantity  \\\n",
       "63247     541552     21975     PACK OF 60 DINOSAUR CAKE CASES         1   \n",
       "397984    571216     20992         JAZZ HEARTS PURSE NOTEBOOK         1   \n",
       "340526    566669     22114  HOT WATER BOTTLE TEA AND SYMPATHY         4   \n",
       "87764     543731     84212      ASSORTED FLOWER COLOUR \"LEIS\"        24   \n",
       "368870    569000     22047                   EMPIRE GIFT WRAP        25   \n",
       "\n",
       "               InvoiceDate  UnitPrice  CustomerID         Country  \n",
       "63247  2011-01-19 11:15:00       0.55     15039.0  United Kingdom  \n",
       "397984 2011-10-14 13:06:00       0.39     16081.0  United Kingdom  \n",
       "340526 2011-09-14 11:36:00       3.95     18065.0  United Kingdom  \n",
       "87764  2011-02-11 11:57:00       0.65     17677.0  United Kingdom  \n",
       "368870 2011-09-29 17:36:00       0.42     17015.0  United Kingdom  "
      ]
     },
     "execution_count": 6,
     "metadata": {},
     "output_type": "execute_result"
    }
   ],
   "source": [
    "sample.head()"
   ]
  },
  {
   "cell_type": "code",
   "execution_count": 7,
   "metadata": {},
   "outputs": [
    {
     "data": {
      "text/html": [
       "<div>\n",
       "<style>\n",
       "    .dataframe thead tr:only-child th {\n",
       "        text-align: right;\n",
       "    }\n",
       "\n",
       "    .dataframe thead th {\n",
       "        text-align: left;\n",
       "    }\n",
       "\n",
       "    .dataframe tbody tr th {\n",
       "        vertical-align: top;\n",
       "    }\n",
       "</style>\n",
       "<table border=\"1\" class=\"dataframe\">\n",
       "  <thead>\n",
       "    <tr style=\"text-align: right;\">\n",
       "      <th></th>\n",
       "      <th>InvoiceNo</th>\n",
       "      <th>StockCode</th>\n",
       "      <th>Description</th>\n",
       "      <th>Quantity</th>\n",
       "      <th>InvoiceDate</th>\n",
       "      <th>UnitPrice</th>\n",
       "      <th>CustomerID</th>\n",
       "      <th>Country</th>\n",
       "    </tr>\n",
       "  </thead>\n",
       "  <tbody>\n",
       "    <tr>\n",
       "      <th>870</th>\n",
       "      <td>536477</td>\n",
       "      <td>21137</td>\n",
       "      <td>BLACK RECORD COVER FRAME</td>\n",
       "      <td>480</td>\n",
       "      <td>2010-12-01 12:27:00</td>\n",
       "      <td>3.39</td>\n",
       "      <td>16210.0</td>\n",
       "      <td>United Kingdom</td>\n",
       "    </tr>\n",
       "    <tr>\n",
       "      <th>166156</th>\n",
       "      <td>550899</td>\n",
       "      <td>84997C</td>\n",
       "      <td>CHILDRENS CUTLERY POLKADOT BLUE</td>\n",
       "      <td>4</td>\n",
       "      <td>2011-04-21 12:07:00</td>\n",
       "      <td>4.15</td>\n",
       "      <td>13505.0</td>\n",
       "      <td>Switzerland</td>\n",
       "    </tr>\n",
       "    <tr>\n",
       "      <th>289528</th>\n",
       "      <td>562269</td>\n",
       "      <td>20726</td>\n",
       "      <td>LUNCH BAG WOODLAND</td>\n",
       "      <td>2</td>\n",
       "      <td>2011-08-03 16:35:00</td>\n",
       "      <td>1.65</td>\n",
       "      <td>14056.0</td>\n",
       "      <td>United Kingdom</td>\n",
       "    </tr>\n",
       "    <tr>\n",
       "      <th>536867</th>\n",
       "      <td>581221</td>\n",
       "      <td>23213</td>\n",
       "      <td>STAR WREATH DECORATION WITH BELL</td>\n",
       "      <td>36</td>\n",
       "      <td>2011-12-08 09:40:00</td>\n",
       "      <td>1.25</td>\n",
       "      <td>17856.0</td>\n",
       "      <td>United Kingdom</td>\n",
       "    </tr>\n",
       "    <tr>\n",
       "      <th>253945</th>\n",
       "      <td>559202</td>\n",
       "      <td>20723</td>\n",
       "      <td>STRAWBERRY CHARLOTTE BAG</td>\n",
       "      <td>10</td>\n",
       "      <td>2011-07-07 10:40:00</td>\n",
       "      <td>0.85</td>\n",
       "      <td>13583.0</td>\n",
       "      <td>United Kingdom</td>\n",
       "    </tr>\n",
       "  </tbody>\n",
       "</table>\n",
       "</div>"
      ],
      "text/plain": [
       "       InvoiceNo StockCode                       Description  Quantity  \\\n",
       "870       536477     21137          BLACK RECORD COVER FRAME       480   \n",
       "166156    550899    84997C   CHILDRENS CUTLERY POLKADOT BLUE         4   \n",
       "289528    562269     20726                LUNCH BAG WOODLAND         2   \n",
       "536867    581221     23213  STAR WREATH DECORATION WITH BELL        36   \n",
       "253945    559202     20723          STRAWBERRY CHARLOTTE BAG        10   \n",
       "\n",
       "               InvoiceDate  UnitPrice  CustomerID         Country  \n",
       "870    2010-12-01 12:27:00       3.39     16210.0  United Kingdom  \n",
       "166156 2011-04-21 12:07:00       4.15     13505.0     Switzerland  \n",
       "289528 2011-08-03 16:35:00       1.65     14056.0  United Kingdom  \n",
       "536867 2011-12-08 09:40:00       1.25     17856.0  United Kingdom  \n",
       "253945 2011-07-07 10:40:00       0.85     13583.0  United Kingdom  "
      ]
     },
     "execution_count": 7,
     "metadata": {},
     "output_type": "execute_result"
    }
   ],
   "source": [
    "sample.tail()"
   ]
  },
  {
   "cell_type": "markdown",
   "metadata": {},
   "source": [
    "### Data preprocessing"
   ]
  },
  {
   "cell_type": "code",
   "execution_count": 8,
   "metadata": {
    "collapsed": true
   },
   "outputs": [],
   "source": [
    "# create a new column to store total amount \n",
    "sample['total'] = sample['Quantity']  * sample['UnitPrice']"
   ]
  },
  {
   "cell_type": "code",
   "execution_count": 9,
   "metadata": {},
   "outputs": [
    {
     "data": {
      "text/plain": [
       "<matplotlib.axes._subplots.AxesSubplot at 0x1a1fd40e10>"
      ]
     },
     "execution_count": 9,
     "metadata": {},
     "output_type": "execute_result"
    },
    {
     "data": {
      "image/png": "[encoded data removed]",
      "text/plain": [
       "<matplotlib.figure.Figure at 0x1a1fd40358>"
      ]
     },
     "metadata": {},
     "output_type": "display_data"
    }
   ],
   "source": [
    "# check distribution of total\n",
    "sns.distplot(sample['total'])"
   ]
  },
  {
   "cell_type": "code",
   "execution_count": 10,
   "metadata": {},
   "outputs": [
    {
     "data": {
      "text/html": [
       "<div>\n",
       "<style>\n",
       "    .dataframe thead tr:only-child th {\n",
       "        text-align: right;\n",
       "    }\n",
       "\n",
       "    .dataframe thead th {\n",
       "        text-align: left;\n",
       "    }\n",
       "\n",
       "    .dataframe tbody tr th {\n",
       "        vertical-align: top;\n",
       "    }\n",
       "</style>\n",
       "<table border=\"1\" class=\"dataframe\">\n",
       "  <thead>\n",
       "    <tr style=\"text-align: right;\">\n",
       "      <th></th>\n",
       "      <th>Quantity</th>\n",
       "      <th>UnitPrice</th>\n",
       "      <th>CustomerID</th>\n",
       "      <th>total</th>\n",
       "    </tr>\n",
       "  </thead>\n",
       "  <tbody>\n",
       "    <tr>\n",
       "      <th>count</th>\n",
       "      <td>122049.000000</td>\n",
       "      <td>122049.000000</td>\n",
       "      <td>122049.000000</td>\n",
       "      <td>122049.000000</td>\n",
       "    </tr>\n",
       "    <tr>\n",
       "      <th>mean</th>\n",
       "      <td>12.035281</td>\n",
       "      <td>3.340847</td>\n",
       "      <td>15290.338528</td>\n",
       "      <td>20.648179</td>\n",
       "    </tr>\n",
       "    <tr>\n",
       "      <th>std</th>\n",
       "      <td>43.429183</td>\n",
       "      <td>26.088035</td>\n",
       "      <td>1714.157710</td>\n",
       "      <td>81.357842</td>\n",
       "    </tr>\n",
       "    <tr>\n",
       "      <th>min</th>\n",
       "      <td>-2000.000000</td>\n",
       "      <td>0.000000</td>\n",
       "      <td>12347.000000</td>\n",
       "      <td>-4921.500000</td>\n",
       "    </tr>\n",
       "    <tr>\n",
       "      <th>25%</th>\n",
       "      <td>2.000000</td>\n",
       "      <td>1.250000</td>\n",
       "      <td>13946.000000</td>\n",
       "      <td>4.200000</td>\n",
       "    </tr>\n",
       "    <tr>\n",
       "      <th>50%</th>\n",
       "      <td>5.000000</td>\n",
       "      <td>1.950000</td>\n",
       "      <td>15159.000000</td>\n",
       "      <td>11.250000</td>\n",
       "    </tr>\n",
       "    <tr>\n",
       "      <th>75%</th>\n",
       "      <td>12.000000</td>\n",
       "      <td>3.750000</td>\n",
       "      <td>16794.000000</td>\n",
       "      <td>19.500000</td>\n",
       "    </tr>\n",
       "    <tr>\n",
       "      <th>max</th>\n",
       "      <td>3114.000000</td>\n",
       "      <td>4287.630000</td>\n",
       "      <td>18287.000000</td>\n",
       "      <td>6539.400000</td>\n",
       "    </tr>\n",
       "  </tbody>\n",
       "</table>\n",
       "</div>"
      ],
      "text/plain": [
       "            Quantity      UnitPrice     CustomerID          total\n",
       "count  122049.000000  122049.000000  122049.000000  122049.000000\n",
       "mean       12.035281       3.340847   15290.338528      20.648179\n",
       "std        43.429183      26.088035    1714.157710      81.357842\n",
       "min     -2000.000000       0.000000   12347.000000   -4921.500000\n",
       "25%         2.000000       1.250000   13946.000000       4.200000\n",
       "50%         5.000000       1.950000   15159.000000      11.250000\n",
       "75%        12.000000       3.750000   16794.000000      19.500000\n",
       "max      3114.000000    4287.630000   18287.000000    6539.400000"
      ]
     },
     "execution_count": 10,
     "metadata": {},
     "output_type": "execute_result"
    }
   ],
   "source": [
    "sample.describe()"
   ]
  },
  {
   "cell_type": "code",
   "execution_count": 11,
   "metadata": {},
   "outputs": [
    {
     "name": "stdout",
     "output_type": "stream",
     "text": [
      "Total Number of Records:  122049\n",
      "Total Number of Records with Negative Sales:  2614\n",
      "Proportion of Records with Negative Sales:  0.02\n"
     ]
    }
   ],
   "source": [
    "print ('Total Number of Records: ', len(sample))\n",
    "print ('Total Number of Records with Negative Sales: ', len(sample[sample['total'] < 0]))\n",
    "print ('Proportion of Records with Negative Sales: ', round(len(sample[sample['total'] < 0])/ len(sample), 2))"
   ]
  },
  {
   "cell_type": "code",
   "execution_count": 12,
   "metadata": {},
   "outputs": [],
   "source": [
    "# function to get invoice date\n",
    "def get_day(x):\n",
    "    return dt.datetime(x.year, x.month, x.day)\n",
    "\n",
    "# create a new column to store invoice date\n",
    "sample['InvoiceDay'] = sample['InvoiceDate'].apply(get_day)"
   ]
  },
  {
   "cell_type": "code",
   "execution_count": 13,
   "metadata": {},
   "outputs": [],
   "source": [
    "# find the latest transaction day in the dataset\n",
    "# assume the analysis is conducted a day after the latest transaction day\n",
    "# add 1 more day to it to calculate recency\n",
    "\n",
    "latest_day = sample['InvoiceDay'].max() + dt.timedelta(1)"
   ]
  },
  {
   "cell_type": "markdown",
   "metadata": {},
   "source": [
    "### Calculate RFM"
   ]
  },
  {
   "cell_type": "code",
   "execution_count": 14,
   "metadata": {},
   "outputs": [],
   "source": [
    "# calculate recency, monetary, frequency\n",
    "rfm = sample.groupby('CustomerID').agg({\n",
    "    'InvoiceDay': lambda x: (latest_day - x.max()).days,\n",
    "    'InvoiceNo': 'count',\n",
    "    'total': 'sum'\n",
    "})"
   ]
  },
  {
   "cell_type": "code",
   "execution_count": 15,
   "metadata": {},
   "outputs": [],
   "source": [
    "rfm.columns = ['Recency', 'Frequency', 'Monetary']"
   ]
  },
  {
   "cell_type": "code",
   "execution_count": 16,
   "metadata": {},
   "outputs": [],
   "source": [
    "# seperate data into 5 bins. assign rfm labels based on bins \n",
    "\n",
    "\n",
    "# smaller recency --> higher label \n",
    "r_labels = range(5, 0, -1)\n",
    "r_groups = pd.qcut(rfm['Recency'], q = 5, labels = r_labels)\n",
    "\n",
    "# larger frequency --> higher label \n",
    "f_labels = range(1, 6, 1)\n",
    "f_groups = pd.qcut(rfm['Frequency'], q = 5, labels = f_labels)\n",
    "\n",
    "# larger monetary total --> higher label \n",
    "m_labels = range(1, 6, 1)\n",
    "m_groups = pd.qcut(rfm['Monetary'], q = 5, labels = m_labels)\n"
   ]
  },
  {
   "cell_type": "code",
   "execution_count": 17,
   "metadata": {},
   "outputs": [],
   "source": [
    "rfm['R'] = r_groups.values\n",
    "rfm['F'] = f_groups.values\n",
    "rfm['M'] = m_groups.values"
   ]
  },
  {
   "cell_type": "code",
   "execution_count": 18,
   "metadata": {},
   "outputs": [],
   "source": [
    "# concat R, F, M together\n",
    "rfm['RFM_segment'] = rfm.apply(lambda x: str(x['R']) + str(x['F']) + str(x['M']), axis = 1)"
   ]
  },
  {
   "cell_type": "code",
   "execution_count": 19,
   "metadata": {
    "collapsed": true
   },
   "outputs": [],
   "source": [
    "# assign segmentation \n",
    "'''\n",
    "create a function to segment customers based on rfm segmentation \n",
    "\n",
    "reference\n",
    "1. https://www.putler.com/rfm-analysis/\n",
    "2. https://www.optimove.com/learning-center/rfm-segmentation\n",
    "\n",
    "'''\n",
    "def segmentation(x):\n",
    "    if x[0] == '5' and x[1] == '5' and x[2] == '5':\n",
    "        return 'Best Customers'\n",
    "    elif x[0] == '5' and x[1] == '1' and x[2] in ['4', '5']:\n",
    "        return 'High-Spending New Customers'\n",
    "    elif x[0] == '5' and x[1] == '5' and x[2] in ['1', '2']: \n",
    "        return 'Low-Spending Active Loyal Customers'\n",
    "    elif x[0] == '5' and x[1] == '5' and x[2] == '3': \n",
    "        return 'Average-Spending Active Loyal Customers'\n",
    "    elif x[0] == '1' and x[1] in ['4', '5'] and x[2] in ['4', '5']: \n",
    "        return 'Can’t Lose Them'\n",
    "    elif x[0] == '1' and x[1] == '1' and x[2] == '1':\n",
    "        return 'Lost Low-Spending Customers'\n",
    "    elif x[0] == '2' and x[1] in ['4', '5'] and x[2] in ['4', '5']: \n",
    "        return 'At Risk'\n",
    "    elif x[0] in ['2', '3'] and x[1] in ['2', '3'] and x[2] in ['2', '3']: \n",
    "        return 'Customers Needing Attention'\n",
    "    elif x[0] in ['1', '2'] and x[1] in ['1', '2'] and x[2] in ['1', '2']: \n",
    "        return 'Hibernating'"
   ]
  },
  {
   "cell_type": "code",
   "execution_count": 20,
   "metadata": {
    "collapsed": true
   },
   "outputs": [],
   "source": [
    "rfm['customer_segmentation'] = rfm['RFM_segment'].apply(segmentation)"
   ]
  },
  {
   "cell_type": "code",
   "execution_count": 21,
   "metadata": {},
   "outputs": [
    {
     "data": {
      "text/plain": [
       "Customers Needing Attention                518\n",
       "Hibernating                                515\n",
       "Best Customers                             308\n",
       "Lost Low-Spending Customers                249\n",
       "At Risk                                    146\n",
       "Can’t Lose Them                             44\n",
       "Average-Spending Active Loyal Customers     20\n",
       "High-Spending New Customers                  2\n",
       "Low-Spending Active Loyal Customers          2\n",
       "Name: customer_segmentation, dtype: int64"
      ]
     },
     "execution_count": 21,
     "metadata": {},
     "output_type": "execute_result"
    }
   ],
   "source": [
    "rfm['customer_segmentation'].value_counts()"
   ]
  },
  {
   "cell_type": "markdown",
   "metadata": {},
   "source": [
    "### KMeans Clustering "
   ]
  },
  {
   "cell_type": "code",
   "execution_count": 22,
   "metadata": {},
   "outputs": [
    {
     "data": {
      "text/plain": [
       "<matplotlib.axes._subplots.AxesSubplot at 0x1a23fbde10>"
      ]
     },
     "execution_count": 22,
     "metadata": {},
     "output_type": "execute_result"
    },
    {
     "data": {
      "image/png": "[encoded data removed]",
      "text/plain": [
       "<matplotlib.figure.Figure at 0x1a1fd437b8>"
      ]
     },
     "metadata": {},
     "output_type": "display_data"
    }
   ],
   "source": [
    "# check distribution and skewness\n",
    "sns.distplot(rfm.Recency)"
   ]
  },
  {
   "cell_type": "code",
   "execution_count": 23,
   "metadata": {},
   "outputs": [
    {
     "data": {
      "text/plain": [
       "<matplotlib.axes._subplots.AxesSubplot at 0x1a326507b8>"
      ]
     },
     "execution_count": 23,
     "metadata": {},
     "output_type": "execute_result"
    },
    {
     "data": {
      "image/png": "[encoded data removed]",
      "text/plain": [
       "<matplotlib.figure.Figure at 0x1a3295f278>"
      ]
     },
     "metadata": {},
     "output_type": "display_data"
    }
   ],
   "source": [
    "sns.distplot(rfm.Frequency)"
   ]
  },
  {
   "cell_type": "code",
   "execution_count": 24,
   "metadata": {},
   "outputs": [
    {
     "data": {
      "text/plain": [
       "<matplotlib.axes._subplots.AxesSubplot at 0x1a2ea22f28>"
      ]
     },
     "execution_count": 24,
     "metadata": {},
     "output_type": "execute_result"
    },
    {
     "data": {
      "image/png": "[encoded data removed]",
      "text/plain": [
       "<matplotlib.figure.Figure at 0x1a2f9a31d0>"
      ]
     },
     "metadata": {},
     "output_type": "display_data"
    }
   ],
   "source": [
    "# there are negative values\n",
    "sns.distplot(rfm.Monetary)"
   ]
  },
  {
   "cell_type": "code",
   "execution_count": 25,
   "metadata": {},
   "outputs": [],
   "source": [
    "# transform data : 1. before log transformation, change negative values or 0 into 1 \n",
    "\n",
    "rfm['Monetary'] = rfm['Monetary'].apply(lambda x: 1 if x <= 0 else x)\n",
    "\n",
    "# transform data : 2. log transformation \n",
    "import numpy as np \n",
    "rfm_transform = rfm[['Recency', 'Frequency', 'Monetary']].apply(np.log, axis = 1).round(3)"
   ]
  },
  {
   "cell_type": "code",
   "execution_count": 26,
   "metadata": {},
   "outputs": [
    {
     "data": {
      "text/plain": [
       "<matplotlib.axes._subplots.AxesSubplot at 0x1a31cbeda0>"
      ]
     },
     "execution_count": 26,
     "metadata": {},
     "output_type": "execute_result"
    },
    {
     "data": {
      "image/png": "[encoded data removed]",
      "text/plain": [
       "<matplotlib.figure.Figure at 0x1a24ab65f8>"
      ]
     },
     "metadata": {},
     "output_type": "display_data"
    }
   ],
   "source": [
    "# check distribution\n",
    "\n",
    "sns.distplot(rfm_transform.Frequency)"
   ]
  },
  {
   "cell_type": "code",
   "execution_count": 27,
   "metadata": {},
   "outputs": [
    {
     "data": {
      "text/plain": [
       "<matplotlib.axes._subplots.AxesSubplot at 0x1a2e868550>"
      ]
     },
     "execution_count": 27,
     "metadata": {},
     "output_type": "execute_result"
    },
    {
     "data": {
      "image/png": "[encoded data removed]",
      "text/plain": [
       "<matplotlib.figure.Figure at 0x1a318a2470>"
      ]
     },
     "metadata": {},
     "output_type": "display_data"
    }
   ],
   "source": [
    "sns.distplot(rfm_transform.Recency)"
   ]
  },
  {
   "cell_type": "code",
   "execution_count": 28,
   "metadata": {},
   "outputs": [
    {
     "data": {
      "text/plain": [
       "<matplotlib.axes._subplots.AxesSubplot at 0x1a304974e0>"
      ]
     },
     "execution_count": 28,
     "metadata": {},
     "output_type": "execute_result"
    },
    {
     "data": {
      "image/png": "[encoded data removed]",
      "text/plain": [
       "<matplotlib.figure.Figure at 0x1a2fdff438>"
      ]
     },
     "metadata": {},
     "output_type": "display_data"
    }
   ],
   "source": [
    "sns.distplot(rfm_transform.Monetary)"
   ]
  },
  {
   "cell_type": "code",
   "execution_count": 29,
   "metadata": {
    "collapsed": true
   },
   "outputs": [],
   "source": [
    "# import StandardScaler and KMeans for clustering\n",
    "\n",
    "from sklearn.preprocessing import StandardScaler\n",
    "from sklearn.cluster import KMeans"
   ]
  },
  {
   "cell_type": "code",
   "execution_count": 30,
   "metadata": {},
   "outputs": [],
   "source": [
    "scaler = StandardScaler()\n",
    "# standardise - rfm_transform has three different scales\n",
    "rfm_scaled = scaler.fit_transform(rfm_transform)\n",
    "\n",
    "# store standardised data in a dataframe\n",
    "rfm_scaled = pd.DataFrame(rfm_scaled, index = rfm.index, columns = rfm_transform.columns)"
   ]
  },
  {
   "cell_type": "code",
   "execution_count": 31,
   "metadata": {},
   "outputs": [
    {
     "data": {
      "text/html": [
       "<div>\n",
       "<style>\n",
       "    .dataframe thead tr:only-child th {\n",
       "        text-align: right;\n",
       "    }\n",
       "\n",
       "    .dataframe thead th {\n",
       "        text-align: left;\n",
       "    }\n",
       "\n",
       "    .dataframe tbody tr th {\n",
       "        vertical-align: top;\n",
       "    }\n",
       "</style>\n",
       "<table border=\"1\" class=\"dataframe\">\n",
       "  <thead>\n",
       "    <tr style=\"text-align: right;\">\n",
       "      <th></th>\n",
       "      <th>Recency</th>\n",
       "      <th>Frequency</th>\n",
       "      <th>Monetary</th>\n",
       "    </tr>\n",
       "    <tr>\n",
       "      <th>CustomerID</th>\n",
       "      <th></th>\n",
       "      <th></th>\n",
       "      <th></th>\n",
       "    </tr>\n",
       "  </thead>\n",
       "  <tbody>\n",
       "    <tr>\n",
       "      <th>12347.0</th>\n",
       "      <td>-1.947325</td>\n",
       "      <td>1.098254</td>\n",
       "      <td>1.203453</td>\n",
       "    </tr>\n",
       "    <tr>\n",
       "      <th>12348.0</th>\n",
       "      <td>1.226176</td>\n",
       "      <td>-0.213814</td>\n",
       "      <td>0.733418</td>\n",
       "    </tr>\n",
       "    <tr>\n",
       "      <th>12349.0</th>\n",
       "      <td>-0.622040</td>\n",
       "      <td>0.515466</td>\n",
       "      <td>0.527645</td>\n",
       "    </tr>\n",
       "    <tr>\n",
       "      <th>12350.0</th>\n",
       "      <td>1.386359</td>\n",
       "      <td>-0.498042</td>\n",
       "      <td>-0.320814</td>\n",
       "    </tr>\n",
       "    <tr>\n",
       "      <th>12352.0</th>\n",
       "      <td>-0.142926</td>\n",
       "      <td>0.296523</td>\n",
       "      <td>1.277446</td>\n",
       "    </tr>\n",
       "  </tbody>\n",
       "</table>\n",
       "</div>"
      ],
      "text/plain": [
       "             Recency  Frequency  Monetary\n",
       "CustomerID                               \n",
       "12347.0    -1.947325   1.098254  1.203453\n",
       "12348.0     1.226176  -0.213814  0.733418\n",
       "12349.0    -0.622040   0.515466  0.527645\n",
       "12350.0     1.386359  -0.498042 -0.320814\n",
       "12352.0    -0.142926   0.296523  1.277446"
      ]
     },
     "execution_count": 31,
     "metadata": {},
     "output_type": "execute_result"
    }
   ],
   "source": [
    "rfm_scaled.head()"
   ]
  },
  {
   "cell_type": "code",
   "execution_count": 32,
   "metadata": {},
   "outputs": [
    {
     "data": {
      "image/png": "[encoded data removed]",
      "text/plain": [
       "<matplotlib.figure.Figure at 0x1a315a5ac8>"
      ]
     },
     "metadata": {},
     "output_type": "display_data"
    }
   ],
   "source": [
    "# find the optimal K that minimises within cluster sum of squares\n",
    "# reference : https://towardsdatascience.com/who-is-your-golden-goose-cohort-analysis-50c9de5dbd31\n",
    "wcss = {}\n",
    "for k in range(1, 11):\n",
    "    kmeans = KMeans(n_clusters= k, init= 'k-means++', max_iter= 150)\n",
    "    kmeans.fit(rfm_scaled)\n",
    "    wcss[k] = kmeans.inertia_\n",
    "    \n",
    "# plot the WCSS values to identify elbow\n",
    "sns.pointplot(x = list(wcss.keys()), y = list(wcss.values()))\n",
    "plt.xlabel('K Numbers')\n",
    "plt.ylabel('WCSS')\n",
    "plt.show()"
   ]
  },
  {
   "cell_type": "code",
   "execution_count": 33,
   "metadata": {},
   "outputs": [
    {
     "data": {
      "text/plain": [
       "KMeans(algorithm='auto', copy_x=True, init='k-means++', max_iter=150,\n",
       "    n_clusters=3, n_init=10, n_jobs=1, precompute_distances='auto',\n",
       "    random_state=None, tol=0.0001, verbose=0)"
      ]
     },
     "execution_count": 33,
     "metadata": {},
     "output_type": "execute_result"
    }
   ],
   "source": [
    "# cluster data into the optimal number of clusters : 3\n",
    "cluster = KMeans(n_clusters= 3, init= 'k-means++', max_iter= 150)\n",
    "cluster.fit(rfm_scaled)"
   ]
  },
  {
   "cell_type": "code",
   "execution_count": 34,
   "metadata": {},
   "outputs": [
    {
     "data": {
      "text/plain": [
       "0    1849\n",
       "2    1230\n",
       "1    1134\n",
       "Name: K_Cluster, dtype: int64"
      ]
     },
     "execution_count": 34,
     "metadata": {},
     "output_type": "execute_result"
    }
   ],
   "source": [
    "# assign clusters\n",
    "rfm['K_Cluster'] = cluster.labels_\n",
    "rfm.K_Cluster.value_counts()"
   ]
  },
  {
   "cell_type": "code",
   "execution_count": 35,
   "metadata": {},
   "outputs": [
    {
     "data": {
      "text/html": [
       "<div>\n",
       "<style>\n",
       "    .dataframe thead tr:only-child th {\n",
       "        text-align: right;\n",
       "    }\n",
       "\n",
       "    .dataframe thead th {\n",
       "        text-align: left;\n",
       "    }\n",
       "\n",
       "    .dataframe tbody tr th {\n",
       "        vertical-align: top;\n",
       "    }\n",
       "</style>\n",
       "<table border=\"1\" class=\"dataframe\">\n",
       "  <thead>\n",
       "    <tr style=\"text-align: right;\">\n",
       "      <th></th>\n",
       "      <th>Monetary</th>\n",
       "      <th>Frequency</th>\n",
       "      <th>Recency</th>\n",
       "    </tr>\n",
       "    <tr>\n",
       "      <th>K_Cluster</th>\n",
       "      <th></th>\n",
       "      <th></th>\n",
       "      <th></th>\n",
       "    </tr>\n",
       "  </thead>\n",
       "  <tbody>\n",
       "    <tr>\n",
       "      <th>0</th>\n",
       "      <td>220.55</td>\n",
       "      <td>15</td>\n",
       "      <td>61</td>\n",
       "    </tr>\n",
       "    <tr>\n",
       "      <th>1</th>\n",
       "      <td>761.99</td>\n",
       "      <td>49</td>\n",
       "      <td>10</td>\n",
       "    </tr>\n",
       "    <tr>\n",
       "      <th>2</th>\n",
       "      <td>53.30</td>\n",
       "      <td>3</td>\n",
       "      <td>177</td>\n",
       "    </tr>\n",
       "  </tbody>\n",
       "</table>\n",
       "</div>"
      ],
      "text/plain": [
       "           Monetary  Frequency  Recency\n",
       "K_Cluster                              \n",
       "0            220.55         15       61\n",
       "1            761.99         49       10\n",
       "2             53.30          3      177"
      ]
     },
     "execution_count": 35,
     "metadata": {},
     "output_type": "execute_result"
    }
   ],
   "source": [
    "# find average numbers for each \n",
    "rfm.groupby('K_Cluster').agg({'Monetary': 'median', 'Frequency': 'median', 'Recency': 'median'})"
   ]
  },
  {
   "cell_type": "code",
   "execution_count": 36,
   "metadata": {},
   "outputs": [
    {
     "data": {
      "text/plain": [
       "K_Cluster  customer_segmentation                  \n",
       "0          Customers Needing Attention                444\n",
       "           At Risk                                    136\n",
       "           Can’t Lose Them                             44\n",
       "           Hibernating                                 17\n",
       "           High-Spending New Customers                  1\n",
       "1          Best Customers                             308\n",
       "           Average-Spending Active Loyal Customers     20\n",
       "           At Risk                                     10\n",
       "           Low-Spending Active Loyal Customers          2\n",
       "           High-Spending New Customers                  1\n",
       "2          Hibernating                                498\n",
       "           Lost Low-Spending Customers                249\n",
       "           Customers Needing Attention                 74\n",
       "Name: customer_segmentation, dtype: int64"
      ]
     },
     "execution_count": 36,
     "metadata": {},
     "output_type": "execute_result"
    }
   ],
   "source": [
    "# compare clusters and customer segmentation\n",
    "rfm.groupby('K_Cluster')['customer_segmentation'].value_counts()"
   ]
  }
 ],
 "metadata": {
  "kernelspec": {
   "display_name": "Python 3",
   "language": "python",
   "name": "python3"
  },
  "language_info": {
   "codemirror_mode": {
    "name": "ipython",
    "version": 3
   },
   "file_extension": ".py",
   "mimetype": "text/x-python",
   "name": "python",
   "nbconvert_exporter": "python",
   "pygments_lexer": "ipython3",
   "version": "3.6.7"
  }
 },
 "nbformat": 4,
 "nbformat_minor": 2
}
